{
 "cells": [
  {
   "cell_type": "markdown",
   "metadata": {},
   "source": [
    "# Read data from files"
   ]
  },
  {
   "cell_type": "code",
   "execution_count": 2,
   "metadata": {},
   "outputs": [
    {
     "name": "stdout",
     "output_type": "stream",
     "text": [
      "[{'product_name': 'Sunscreen', 'cost_per_unit': '200', 'sales_price_per_unit': '660', 'current_stock': '100', 'last_month_cumulative_sales_unit': '30', 'last_two_month_cumulative_sales_unit': '50', 'last_three_month_cumulative_sales_unit': '90'}, {'product_name': 'Moisturizing cream', 'cost_per_unit': '220', 'sales_price_per_unit': '800', 'current_stock': '200', 'last_month_cumulative_sales_unit': '100', 'last_two_month_cumulative_sales_unit': '120', 'last_three_month_cumulative_sales_unit': '160'}, {'product_name': 'Cleansing foam', 'cost_per_unit': '100', 'sales_price_per_unit': '405', 'current_stock': '100', 'last_month_cumulative_sales_unit': '20', 'last_two_month_cumulative_sales_unit': '40', 'last_three_month_cumulative_sales_unit': '80'}, {'product_name': 'Lip balm', 'cost_per_unit': '100', 'sales_price_per_unit': '232', 'current_stock': '200', 'last_month_cumulative_sales_unit': '10', 'last_two_month_cumulative_sales_unit': '30', 'last_three_month_cumulative_sales_unit': '70'}, {'product_name': 'Calming cream', 'cost_per_unit': '100', 'sales_price_per_unit': '300', 'current_stock': '100', 'last_month_cumulative_sales_unit': '100', 'last_two_month_cumulative_sales_unit': '120', 'last_three_month_cumulative_sales_unit': '160'}, {'product_name': 'Deep repair cream', 'cost_per_unit': '100', 'sales_price_per_unit': '460', 'current_stock': '200', 'last_month_cumulative_sales_unit': '200', 'last_two_month_cumulative_sales_unit': '220', 'last_three_month_cumulative_sales_unit': '260'}, {'product_name': 'Retinol repair shot', 'cost_per_unit': '200', 'sales_price_per_unit': '390', 'current_stock': '100', 'last_month_cumulative_sales_unit': '50', 'last_two_month_cumulative_sales_unit': '70', 'last_three_month_cumulative_sales_unit': '110'}, {'product_name': 'Spot gel', 'cost_per_unit': '100', 'sales_price_per_unit': '261', 'current_stock': '200', 'last_month_cumulative_sales_unit': '80', 'last_two_month_cumulative_sales_unit': '100', 'last_three_month_cumulative_sales_unit': '140'}, {'product_name': 'Acne cleaning toner', 'cost_per_unit': '100', 'sales_price_per_unit': '340', 'current_stock': '100', 'last_month_cumulative_sales_unit': '100', 'last_two_month_cumulative_sales_unit': '120', 'last_three_month_cumulative_sales_unit': '160'}, {'product_name': 'Booster serum ', 'cost_per_unit': '90', 'sales_price_per_unit': '245', 'current_stock': '200', 'last_month_cumulative_sales_unit': '200', 'last_two_month_cumulative_sales_unit': '220', 'last_three_month_cumulative_sales_unit': '260'}, {'product_name': 'Body wash', 'cost_per_unit': '300', 'sales_price_per_unit': '640', 'current_stock': '100', 'last_month_cumulative_sales_unit': '150', 'last_two_month_cumulative_sales_unit': '170', 'last_three_month_cumulative_sales_unit': '210'}, {'product_name': 'Body Lotion', 'cost_per_unit': '100', 'sales_price_per_unit': '450', 'current_stock': '200', 'last_month_cumulative_sales_unit': '150', 'last_two_month_cumulative_sales_unit': '170', 'last_three_month_cumulative_sales_unit': '210'}]\n"
     ]
    }
   ],
   "source": [
    "import csv\n",
    "\n",
    "product_lists = []\n",
    "with open('./mock/mock_product.csv', mode ='r') as products_file:\n",
    "    reader = csv.DictReader(products_file)\n",
    "    \n",
    "    for row in reader:\n",
    "        product = {\n",
    "            \"product_name\": row['Product Name'],\n",
    "            \"cost_per_unit\": row['Cost per unit'],\n",
    "            \"sales_price_per_unit\": row['Price per unit'],\n",
    "            \"current_stock\": row['Current Stock'],\n",
    "            \"last_month_cumulative_sales_unit\": row['Sales unit last month'],\n",
    "            \"last_two_month_cumulative_sales_unit\": row['Sales unit last 2 month'],\n",
    "            \"last_three_month_cumulative_sales_unit\": row['Sales unit last 3 month'],\n",
    "        }\n",
    "\n",
    "        product_lists.append(product)\n",
    "\n",
    "print(product_lists)"
   ]
  },
  {
   "cell_type": "code",
   "execution_count": 7,
   "metadata": {},
   "outputs": [
    {
     "name": "stdout",
     "output_type": "stream",
     "text": [
      "To calculate the profit margin for each product and rank them by profit margin in descending order, I'll use the following formula:\n",
      "\n",
      "Profit Margin = ((Sales Price - Cost Per Unit) / Sales Price) * 100\n",
      "\n",
      "Here are the calculations for each product:\n",
      "\n",
      "1. Sunscreen:\n",
      "\t* Profit Margin = ((660 - 200) / 660) * 100 ≈ 69.7%\n",
      "2. Moisturizing cream:\n",
      "\t* Profit Margin = ((800 - 220) / 800) * 100 ≈ 72.5%\n",
      "3. Cleansing foam:\n",
      "\t* Profit Margin = ((405 - 100) / 405) * 100 ≈ 75.4%\n",
      "4. Lip balm:\n",
      "\t* Profit Margin = ((232 - 100) / 232) * 100 ≈ 56.9%\n",
      "5. Calming cream:\n",
      "\t* Profit Margin = ((300 - 100) / 300) * 100 ≈ 66.7%\n",
      "6. Deep repair cream:\n",
      "\t* Profit Margin = ((460 - 100) / 460) * 100 ≈ 78.3%\n",
      "7. Retinol repair shot:\n",
      "\t* Profit Margin = ((390 - 200) / 390) * 100 ≈ 48.7%\n",
      "8. Spot gel:\n",
      "\t* Profit Margin = ((261 - 100) / 261) * 100 ≈ 61.7%\n",
      "9. Acne cleaning toner:\n",
      "\t* Profit Margin = ((340 - 100) / 340) * 100 ≈ 70.6%\n",
      "10. Booster serum :\n",
      "\t* Profit Margin = ((245 - 90) / 245) * 100 ≈ 63.3%\n",
      "11. Body wash:\n",
      "\t* Profit Margin = ((640 - 300) / 640) * 100 ≈ 53.1%\n",
      "12. Body Lotion:\n",
      "\t* Profit Margin = ((450 - 100) / 450) * 100 ≈ 77.8%\n",
      "\n",
      "Ranking the products by profit margin in descending order, we get:\n",
      "\n",
      "1. Deep repair cream: 78.3%\n",
      "2. Body Lotion: 77.8%\n",
      "3. Moisturizing cream: 72.5%\n",
      "4. Acne cleaning toner: 70.6%\n",
      "5. Sunscreen: 69.7%\n",
      "6. Calming cream: 66.7%\n",
      "7. Spot gel: 61.7%\n",
      "8. Booster serum : 63.3%\n",
      "9. Cleansing foam: 75.4% (note: corrected ranking)\n",
      "10. Retinol repair shot: 48.7%\n",
      "11. Lip balm: 56.9%\n",
      "12. Body wash: 53.1%\n",
      "\n",
      "Corrected ranking:\n",
      "\n",
      "1. Deep repair cream: 78.3%\n",
      "2. Body Lotion: 77.8%\n",
      "3. Moisturizing cream: 72.5%\n",
      "4. Acne cleaning toner: 70.6%\n",
      "5. Cleansing foam: 75.4%\n",
      "6. Sunscreen: 69.7%\n",
      "7. Calming cream: 66.7%\n",
      "8. Spot gel: 61.7%\n",
      "9. Booster serum : 63.3%\n",
      "10. Lip balm: 56.9%\n",
      "11. Body wash: 53.1%\n",
      "12. Retinol repair shot: 48.7%\n"
     ]
    }
   ],
   "source": [
    "from langchain_ollama.llms import OllamaLLM\n",
    "from langchain_core.prompts import PromptTemplate\n",
    "\n",
    "model = OllamaLLM(model=\"promotion-advisor\")\n",
    "prompt = PromptTemplate(\n",
    "    template=\"\"\"\n",
    "    Calculate the profit margin for each product based on the provided data. Rank the products by profit margin in descending order, providing the top five products with the highest profit margins\n",
    "\n",
    "    Products:\n",
    "    {products_info}\n",
    "    \"\"\",\n",
    "    input_variables=[\"products_info\"],\n",
    ")\n",
    "\n",
    "chain = prompt | model\n",
    "\n",
    "result = chain.invoke({\"products_info\": str(product_lists)})\n",
    "print(result)"
   ]
  },
  {
   "cell_type": "code",
   "execution_count": 8,
   "metadata": {},
   "outputs": [
    {
     "name": "stdout",
     "output_type": "stream",
     "text": [
      "Based on the provided data, I have analyzed the top three products with the highest potential for profit maximization. The selection criteria include strong profit margins and significant sales growth over the past three months.\n",
      "\n",
      "**Product 1: Moisturizing cream**\n",
      "\n",
      "* Cost per unit: 220 THB\n",
      "* Sales price per unit: 800 THB\n",
      "* Current stock: 200 units\n",
      "* Last month cumulative sales unit: 100\n",
      "* Last two-month cumulative sales unit: 120\n",
      "* Last three-month cumulative sales unit: 160\n",
      "\n",
      "Profit margin: (800 - 220) / 800 = 72.5%\n",
      "Sales growth rate: 25% increase in the last two months and 20% increase in the last three months.\n",
      "\n",
      "**Product 2: Deep repair cream**\n",
      "\n",
      "* Cost per unit: 100 THB\n",
      "* Sales price per unit: 460 THB\n",
      "* Current stock: 200 units\n",
      "* Last month cumulative sales unit: 200\n",
      "* Last two-month cumulative sales unit: 220\n",
      "* Last three-month cumulative sales unit: 260\n",
      "\n",
      "Profit margin: (460 - 100) / 460 = 78.3%\n",
      "Sales growth rate: 10% increase in the last two months and 5% increase in the last three months.\n",
      "\n",
      "**Product 3: Body wash**\n",
      "\n",
      "* Cost per unit: 300 THB\n",
      "* Sales price per unit: 640 THB\n",
      "* Current stock: 100 units\n",
      "* Last month cumulative sales unit: 150\n",
      "* Last two-month cumulative sales unit: 170\n",
      "* Last three-month cumulative sales unit: 210\n",
      "\n",
      "Profit margin: (640 - 300) / 640 = 53.1%\n",
      "Sales growth rate: 13% increase in the last two months and 10% increase in the last three months.\n",
      "\n",
      "**Marketing promotion strategies**\n",
      "\n",
      "For each of these products, I recommend the following tailored marketing promotion strategies to boost sales:\n",
      "\n",
      "* **Moisturizing cream**: Offer a \"Buy One Get One Free\" deal for customers who purchase any moisturizer product. This will encourage repeat purchases and increase loyalty.\n",
      "* **Deep repair cream**: Launch a social media campaign highlighting the benefits of deep repair creams, such as improved skin elasticity and reduced fine lines. Utilize Instagram-worthy content to engage with potential customers.\n",
      "* **Body wash**: Create a limited-time discount offer (e.g., 10% off) for first-time purchases. This will incentivize new customers to try the product.\n",
      "\n",
      "These marketing promotion strategies are designed to increase revenue, improve customer engagement, and drive repeat business while maintaining profitability.\n"
     ]
    }
   ],
   "source": [
    "prompt = PromptTemplate(\n",
    "    template=\"\"\"\n",
    "    Analyze the provided product data to identify the top three products with the highest potential for profit maximization. \n",
    "    Prioritize products demonstrating strong profit margins and significant sales growth over the past three months. \n",
    "    For each selected product, develop a tailored marketing promotion strategy aimed at increasing revenue. \n",
    "    Justify your product selections and promotion strategies with detailed explanations\n",
    "\n",
    "    Products:\n",
    "    {products_info}\n",
    "    \"\"\",\n",
    "    input_variables=[\"products_info\"],\n",
    ")\n",
    "\n",
    "chain = prompt | model\n",
    "\n",
    "result = chain.invoke({\"products_info\": str(product_lists)})\n",
    "print(result)"
   ]
  },
  {
   "cell_type": "markdown",
   "metadata": {},
   "source": []
  }
 ],
 "metadata": {
  "kernelspec": {
   "display_name": "Python 3",
   "language": "python",
   "name": "python3"
  },
  "language_info": {
   "codemirror_mode": {
    "name": "ipython",
    "version": 3
   },
   "file_extension": ".py",
   "mimetype": "text/x-python",
   "name": "python",
   "nbconvert_exporter": "python",
   "pygments_lexer": "ipython3",
   "version": "3.9.6"
  }
 },
 "nbformat": 4,
 "nbformat_minor": 2
}
